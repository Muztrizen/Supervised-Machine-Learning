{
 "cells": [
  {
   "cell_type": "code",
   "execution_count": null,
   "metadata": {},
   "outputs": [],
   "source": [
    "import pandas as pd\n",
    "import numpy as np\n",
    "import matplotlib.pyplot as plt\n",
    "import lightgbm as lgbm\n",
    "import os\n",
    "import csv\n",
    "import lightgbm as lgb\n",
    "from sklearn.model_selection import train_test_split\n",
    "from sklearn.metrics import accuracy_score\n",
    "from sklearn.model_selection import train_test_split\n",
    "from sklearn.preprocessing import LabelEncoder\n",
    "from sklearn.metrics import accuracy_score, recall_score, precision_score, f1_score\n",
    "%matplotlib inline"
   ]
  },
  {
   "cell_type": "markdown",
   "metadata": {},
   "source": [
    "### Read input dataset as dataframe"
   ]
  },
  {
   "cell_type": "code",
   "execution_count": null,
   "metadata": {},
   "outputs": [],
   "source": [
    "input_path = r'C:\\Users\\baharudin.ahmad\\Documents\\analytics\\supervised_machine_learning\\lightgbm\\input'\n",
    "output_path = r'C:\\Users\\baharudin.ahmad\\Documents\\analytics\\supervised_machine_learning\\lightgbm\\output'\n",
    "\n",
    "train_file_name = 'train.csv'\n",
    "test_file_name = 'test.csv'\n",
    "submission_file_name = 'gender_submission.csv'\n",
    "\n",
    "train_df = pd.read_csv(os.path.join(input_path, train_file_name), encoding='utf-8')\n",
    "test_df = pd.read_csv(os.path.join(input_path, test_file_name), encoding='utf-8')\n",
    "sample_submission = pd.read_csv(os.path.join(input_path, submission_file_name), encoding='utf-8')"
   ]
  },
  {
   "cell_type": "code",
   "execution_count": null,
   "metadata": {},
   "outputs": [],
   "source": [
    "train_df.info()"
   ]
  },
  {
   "cell_type": "code",
   "execution_count": null,
   "metadata": {},
   "outputs": [],
   "source": [
    "test_df.info()"
   ]
  },
  {
   "cell_type": "markdown",
   "metadata": {},
   "source": [
    "### Prepare training dataset"
   ]
  },
  {
   "cell_type": "code",
   "execution_count": null,
   "metadata": {},
   "outputs": [],
   "source": [
    "# SexとEmbarkedのOne-Hotエンコーディング\n",
    "train = pd.get_dummies(train_df, columns=['Sex', 'Embarked'])\n",
    "test = pd.get_dummies(test_df, columns=['Sex', 'Embarked'])\n",
    " # 補足 : Sexは2値なので、One-Hotエンコーディングは不要(してもいいが普通はしない)ですが、今回は行なっています\n",
    "\n",
    "# 不要な列の削除\n",
    "train.drop(['PassengerId', 'Name', 'Cabin', 'Ticket'], axis=1, inplace=True)\n",
    "test.drop(['PassengerId', 'Name', 'Cabin', 'Ticket'], axis=1, inplace=True)\n",
    "\n",
    "# trainの表示\n",
    "display(train.head())"
   ]
  },
  {
   "cell_type": "code",
   "execution_count": null,
   "metadata": {},
   "outputs": [],
   "source": [
    "X_train = train.drop(['Survived'], axis=1)  # X_trainはtrainのSurvived列以外\n",
    "Y_train = train['Survived']  # Y_trainはtrainのSurvived列\n",
    "\n",
    "\n",
    "# X_trainとY_trainをtrainとvalidに分割\n",
    "train_x, valid_x, train_y, valid_y = train_test_split(X_train, Y_train, test_size=0.33, random_state=0)"
   ]
  },
  {
   "cell_type": "markdown",
   "metadata": {},
   "source": [
    "### Define hyperparameters for LGBM"
   ]
  },
  {
   "cell_type": "code",
   "execution_count": null,
   "metadata": {},
   "outputs": [],
   "source": [
    "# LightGBMの分類器をインスタンス化\n",
    "gbm = lgb.LGBMClassifier(\n",
    "                objective = 'binary',\n",
    "                #boosting_type = 'dart',\n",
    "                num_leaves = 50,\n",
    "                learning_rate = 0.05,\n",
    "                        )"
   ]
  },
  {
   "cell_type": "markdown",
   "metadata": {},
   "source": [
    "### Train the model"
   ]
  },
  {
   "cell_type": "code",
   "execution_count": null,
   "metadata": {},
   "outputs": [],
   "source": [
    "# trainとvalidを指定し学習\n",
    "gbm.fit(train_x, train_y, eval_set = [(valid_x, valid_y)],\n",
    "                 early_stopping_rounds = 20,\n",
    "                 verbose = 10\n",
    "       );"
   ]
  },
  {
   "cell_type": "markdown",
   "metadata": {},
   "source": [
    "### Examine model performance"
   ]
  },
  {
   "cell_type": "code",
   "execution_count": null,
   "metadata": {},
   "outputs": [],
   "source": [
    "# oof = Out of Fold\n",
    "# out of foldは学習に使っているデータ以外の予測\n",
    "oof = gbm.predict(valid_x, num_iteration=gbm.best_iteration_)  # oofはout of fold\n",
    "print('score', round(accuracy_score(valid_y, oof)*100,2), '%')  # 正解率の表示\n"
   ]
  },
  {
   "cell_type": "markdown",
   "metadata": {},
   "source": [
    "### Make predictions on the test set"
   ]
  },
  {
   "cell_type": "code",
   "execution_count": null,
   "metadata": {},
   "outputs": [],
   "source": [
    "# testの予測\n",
    "test_pred = gbm.predict(test, num_iteration=gbm.best_iteration_)  # testの予測\n",
    "sample_submission['Survived'] = test_pred  # sample_submissionのSurvived列をtest_predに置き換え"
   ]
  },
  {
   "cell_type": "markdown",
   "metadata": {},
   "source": [
    "### Save test prediction results as csv"
   ]
  },
  {
   "cell_type": "code",
   "execution_count": null,
   "metadata": {},
   "outputs": [],
   "source": [
    "sample_submission.to_csv(os.path.join(output_path,'train_test_split.csv'), header=True, index=False, mode='w', encoding='utf-8') # csvファイルの書き出し"
   ]
  }
 ],
 "metadata": {
  "kernelspec": {
   "display_name": "Python 3",
   "language": "python",
   "name": "python3"
  },
  "language_info": {
   "codemirror_mode": {
    "name": "ipython",
    "version": 3
   },
   "file_extension": ".py",
   "mimetype": "text/x-python",
   "name": "python",
   "nbconvert_exporter": "python",
   "pygments_lexer": "ipython3",
   "version": "3.8.5"
  }
 },
 "nbformat": 4,
 "nbformat_minor": 4
}
